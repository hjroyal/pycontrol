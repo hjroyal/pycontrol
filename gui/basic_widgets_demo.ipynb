{
  "cells": [
    {
      "cell_type": "code",
      "execution_count": 1,
      "metadata": {
        "collapsed": false
      },
      "outputs": [],
      "source": [
        "%matplotlib inline"
      ]
    },
    {
      "cell_type": "markdown",
      "metadata": {},
      "source": [
        "# Basic widgets demo\n",
        "\n",
        "Widget demonstration with magicgui.\n",
        "\n",
        "This code demonstrates a few of the widget types that magicgui can create\n",
        "based on the parameter types in your function.\n"
      ]
    },
    {
      "cell_type": "code",
      "execution_count": 2,
      "metadata": {
        "collapsed": false
      },
      "outputs": [
        {
          "name": "stdout",
          "output_type": "stream",
          "text": [
            "<MainFunctionGui widget_demo(boolean=True, integer=1, spin_float=3.14, slider_float=43.5, slider_int=550, string='Text goes here', dropdown=<Medium.Glass: 1.52>, radio_option=2, date=datetime.date(1999, 12, 31), time=datetime.time(1, 30, 20), datetime=datetime.datetime(2024, 12, 27, 10, 1, 22, 72000), filename=WindowsPath('C:/Users/hj'))>\n",
            "(For a nicer magicgui widget representation in Jupyter, please `pip install imageio`)\n"
          ]
        },
        {
          "data": {
            "text/plain": [
              "<MainFunctionGui widget_demo(boolean=True, integer=1, spin_float=3.14, slider_float=43.5, slider_int=550, string='Text goes here', dropdown=<Medium.Glass: 1.52>, radio_option=2, date=datetime.date(1999, 12, 31), time=datetime.time(1, 30, 20), datetime=datetime.datetime(2024, 12, 27, 10, 1, 22, 72000), filename=WindowsPath('C:/Users/hj'))>"
            ]
          },
          "execution_count": 2,
          "metadata": {},
          "output_type": "execute_result"
        }
      ],
      "source": [
        "import datetime\n",
        "from enum import Enum\n",
        "from pathlib import Path\n",
        "\n",
        "from magicgui import magicgui\n",
        "\n",
        "\n",
        "class Medium(Enum):\n",
        "    \"\"\"Enum for various media and their refractive indices.\"\"\"\n",
        "\n",
        "    Glass = 1.520\n",
        "    Oil = 1.515\n",
        "    Water = 1.333\n",
        "    Air = 1.0003\n",
        "\n",
        "\n",
        "@magicgui(\n",
        "    main_window=True,\n",
        "    call_button=\"Calculate\",\n",
        "    layout=\"vertical\",\n",
        "    result_widget=True,\n",
        "    slider_float={\"widget_type\": \"FloatSlider\", \"max\": 100},\n",
        "    slider_int={\"widget_type\": \"Slider\", \"readout\": False},\n",
        "    radio_option={\n",
        "        \"widget_type\": \"RadioButtons\",\n",
        "        \"orientation\": \"horizontal\",\n",
        "        \"choices\": [(\"first option\", 1), (\"second option\", 2)],\n",
        "    },\n",
        "    filename={\"label\": \"Pick a file:\"},\n",
        ")\n",
        "def widget_demo(\n",
        "    boolean=True,\n",
        "    integer=1,\n",
        "    spin_float=3.14159,\n",
        "    slider_float=43.5,\n",
        "    slider_int=550,\n",
        "    string=\"Text goes here\",\n",
        "    dropdown=Medium.Glass,\n",
        "    radio_option=2,\n",
        "    date=datetime.date(1999, 12, 31),\n",
        "    time=datetime.time(1, 30, 20),\n",
        "    datetime=datetime.datetime.now(),\n",
        "    filename=Path.home(),\n",
        "):\n",
        "    \"\"\"We can use numpy docstrings to provide tooltips.\n",
        "\n",
        "    Parameters\n",
        "    ----------\n",
        "    boolean : bool, optional\n",
        "        A checkbox for booleans, by default True\n",
        "    integer : int, optional\n",
        "        Some integer, by default 1\n",
        "    spin_float : float, optional\n",
        "        This one is a float, by default \"pi\"\n",
        "    slider_float : float, optional\n",
        "        Hey look! I'm a slider, by default 43.5\n",
        "    slider_int : float, optional\n",
        "        I only take integers, and I've hidden my readout, by default 550\n",
        "    string : str, optional\n",
        "        We'll use this string carefully, by default \"Text goes here\"\n",
        "    dropdown : Enum, optional\n",
        "        Pick a medium, by default Medium.Glass\n",
        "    radio_option : int\n",
        "        A set of radio buttons.\n",
        "    date : datetime.date, optional\n",
        "        Your birthday, by default datetime.date(1999, 12, 31)\n",
        "    time : datetime.time, optional\n",
        "        Some time, by default datetime.time(1, 30, 20)\n",
        "    datetime : datetime.datetime, optional\n",
        "        A very specific time and date, by default ``datetime.datetime.now()``\n",
        "    filename : str, optional\n",
        "        Pick a path, by default Path.home()\n",
        "    \"\"\"\n",
        "    return locals().values()\n",
        "\n",
        "\n",
        "widget_demo.changed.connect(print)\n",
        "widget_demo.show(run=True)"
      ]
    }
  ],
  "metadata": {
    "kernelspec": {
      "display_name": "Python 3",
      "language": "python",
      "name": "python3"
    },
    "language_info": {
      "codemirror_mode": {
        "name": "ipython",
        "version": 3
      },
      "file_extension": ".py",
      "mimetype": "text/x-python",
      "name": "python",
      "nbconvert_exporter": "python",
      "pygments_lexer": "ipython3",
      "version": "3.12.2"
    }
  },
  "nbformat": 4,
  "nbformat_minor": 0
}
